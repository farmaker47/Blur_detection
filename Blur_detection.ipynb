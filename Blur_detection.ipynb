{
  "nbformat": 4,
  "nbformat_minor": 0,
  "metadata": {
    "colab": {
      "name": "Blur_detection.ipynb",
      "provenance": [],
      "collapsed_sections": []
    },
    "kernelspec": {
      "name": "python3",
      "display_name": "Python 3"
    },
    "language_info": {
      "name": "python"
    }
  },
  "cells": [
    {
      "cell_type": "code",
      "metadata": {
        "id": "iRofK3TXZoXn"
      },
      "source": [
        "!unzip /content/blur_images.zip -d /content/blur_images"
      ],
      "execution_count": null,
      "outputs": []
    },
    {
      "cell_type": "code",
      "metadata": {
        "id": "yRtlJFC2apiX"
      },
      "source": [
        "import imutils\n",
        "from imutils import paths\n",
        "\n",
        "import argparse\n",
        "import cv2\n",
        "import os\n",
        "from google.colab.patches import cv2_imshow\n",
        "from google.colab import files\n",
        "import matplotlib.pyplot as plt\n",
        "import numpy as np\n"
      ],
      "execution_count": null,
      "outputs": []
    },
    {
      "cell_type": "code",
      "metadata": {
        "id": "nhAxfXshazrW"
      },
      "source": [
        "data = []\n",
        "general_path = '/content/blur_images/'\n",
        "\n",
        "for filename in os.listdir(general_path):\n",
        "    if filename.endswith(\"jpg\"): \n",
        "        # Your code comes here such as \n",
        "        data.append(general_path + filename)\n",
        "\n",
        "print(data)"
      ],
      "execution_count": null,
      "outputs": []
    },
    {
      "cell_type": "markdown",
      "metadata": {
        "id": "SjB_fmPRJSWE"
      },
      "source": [
        "# With OpenCV Variance of the Laplacian\n",
        "\n",
        "https://www.pyimagesearch.com/2015/09/07/blur-detection-with-opencv/\n"
      ]
    },
    {
      "cell_type": "code",
      "metadata": {
        "id": "wPBoaQica0L1"
      },
      "source": [
        "def variance_of_laplacian(image):\n",
        "\t# compute the Laplacian of the image and then return the focus\n",
        "\t# measure, which is simply the variance of the Laplacian\n",
        "\treturn cv2.Laplacian(image, cv2.CV_64F).var()\n"
      ],
      "execution_count": null,
      "outputs": []
    },
    {
      "cell_type": "code",
      "metadata": {
        "id": "Ww0_tdn-XpJS"
      },
      "source": [
        "!mkdir laplacian_processed_images"
      ],
      "execution_count": null,
      "outputs": []
    },
    {
      "cell_type": "code",
      "metadata": {
        "id": "JUXZ0x6Cazj_"
      },
      "source": [
        "THRESHOLD = 100\n",
        "# loop over the input images\n",
        "for imagePath in data:\n",
        "  # load the image, convert it to grayscale, and compute the\n",
        "  # focus measure of the image using the Variance of Laplacian\n",
        "  # method\n",
        "  image = cv2.imread(imagePath)\n",
        "  #image = imutils.resize(image, width=500)\n",
        "  gray = cv2.cvtColor(image, cv2.COLOR_BGR2GRAY)\n",
        "  fm = variance_of_laplacian(gray)\n",
        "  text = \"Not Blurry\"\n",
        "  color = (0,255,0)\n",
        "  # if the focus measure is less than the supplied threshold,\n",
        "  # then the image should be considered \"blurry\"\n",
        "  if fm < THRESHOLD:\n",
        "    text = \"Blurry\"\n",
        "    color = (0,0,255)\n",
        "  # show the image\n",
        "  cv2.putText(image, \"{}: {:.2f}\".format(text, fm), (10, 30),\n",
        "    cv2.FONT_HERSHEY_SIMPLEX, 0.8, color, 3)\n",
        "  cv2_imshow(image)\n",
        "  key = cv2.waitKey(0)\n",
        "\n",
        "  name = os.path.split(imagePath)[1]\n",
        "  #print(name)\n",
        "  \n",
        "  #write the processed image to specific folder\n",
        "  cv2.imwrite(('/content/laplacian_processed_images/'+ name), image)"
      ],
      "execution_count": null,
      "outputs": []
    },
    {
      "cell_type": "code",
      "metadata": {
        "id": "HOgQr4Q1JAPo"
      },
      "source": [
        "#zip folder\n",
        "!zip -r /content/laplacian_processed_images.zip /content/laplacian_processed_images"
      ],
      "execution_count": null,
      "outputs": []
    },
    {
      "cell_type": "code",
      "metadata": {
        "id": "bvDCtUP5YeSa"
      },
      "source": [
        "#download zip folder\n",
        "files.download('/content/laplacian_processed_images.zip')"
      ],
      "execution_count": null,
      "outputs": []
    },
    {
      "cell_type": "markdown",
      "metadata": {
        "id": "YDqqtXTtJCR_"
      },
      "source": [
        "# With OpenCV and Numpy FFT algorithm\n",
        "\n",
        "https://www.pyimagesearch.com/2020/06/15/opencv-fast-fourier-transform-fft-for-blur-detection-in-images-and-video-streams/\n",
        "\n"
      ]
    },
    {
      "cell_type": "code",
      "metadata": {
        "id": "Sm0qAWzpJA_v"
      },
      "source": [
        "def detect_blur_fft(image, size=60, thresh=10, vis=False):\n",
        "\t# grab the dimensions of the image and use the dimensions to\n",
        "\t# derive the center (x, y)-coordinates\n",
        "\t(h, w) = image.shape\n",
        "\t(cX, cY) = (int(w / 2.0), int(h / 2.0))\n",
        "  \n",
        "  # compute the FFT to find the frequency transform, then shift\n",
        "\t# the zero frequency component (i.e., DC component located at\n",
        "\t# the top-left corner) to the center where it will be more\n",
        "\t# easy to analyze\n",
        "\tfft = np.fft.fft2(image)\n",
        "\tfftShift = np.fft.fftshift(fft)\n",
        " \n",
        " # check to see if we are visualizing our output\n",
        "\tif vis:\n",
        "\t\t# compute the magnitude spectrum of the transform\n",
        "\t\tmagnitude = 20 * np.log(np.abs(fftShift))\n",
        "\t\t# display the original input image\n",
        "\t\t(fig, ax) = plt.subplots(1, 2, )\n",
        "\t\tax[0].imshow(image, cmap=\"gray\")\n",
        "\t\tax[0].set_title(\"Input\")\n",
        "\t\tax[0].set_xticks([])\n",
        "\t\tax[0].set_yticks([])\n",
        "\t\t# display the magnitude image\n",
        "\t\tax[1].imshow(magnitude, cmap=\"gray\")\n",
        "\t\tax[1].set_title(\"Magnitude Spectrum\")\n",
        "\t\tax[1].set_xticks([])\n",
        "\t\tax[1].set_yticks([])\n",
        "\t\t# show our plots\n",
        "\t\tplt.show()\n",
        "  \n",
        "  # zero-out the center of the FFT shift (i.e., remove low\n",
        "\t# frequencies), apply the inverse shift such that the DC\n",
        "\t# component once again becomes the top-left, and then apply\n",
        "\t# the inverse FFT\n",
        "\tfftShift[cY - size:cY + size, cX - size:cX + size] = 0\n",
        "\tfftShift = np.fft.ifftshift(fftShift)\n",
        "\trecon = np.fft.ifft2(fftShift)\n",
        " \n",
        "  # compute the magnitude spectrum of the reconstructed image,\n",
        "\t# then compute the mean of the magnitude values\n",
        "\tmagnitude = 20 * np.log(np.abs(recon))\n",
        "\tmean = np.mean(magnitude)\n",
        "\t# the image will be considered \"blurry\" if the mean value of the\n",
        "\t# magnitudes is less than the threshold value\n",
        "\treturn (mean, mean <= thresh)"
      ],
      "execution_count": null,
      "outputs": []
    },
    {
      "cell_type": "code",
      "metadata": {
        "id": "u5yvrUINSF31"
      },
      "source": [
        "!mkdir fft_processed_images"
      ],
      "execution_count": null,
      "outputs": []
    },
    {
      "cell_type": "code",
      "metadata": {
        "id": "-zHcGO8vL4S8"
      },
      "source": [
        "# loop over the input images\n",
        "for imagePath in data:\n",
        "  print(imagePath)\n",
        "  # load the input image from disk, resize it, and convert it to\n",
        "  # grayscale\n",
        "  orig = cv2.imread(imagePath)\n",
        "  orig = imutils.resize(orig, width=500)\n",
        "  gray = cv2.cvtColor(orig, cv2.COLOR_BGR2GRAY)\n",
        "  # apply our blur detector using the FFT\n",
        "  (mean, blurry) = detect_blur_fft(gray, size=60,\n",
        "\t  thresh=20, vis=True)\n",
        "  # draw on the image, indicating whether or not it is blurry\n",
        "  image = np.dstack([gray] * 3)\n",
        "  color = (0, 0, 255) if blurry else (0, 255, 0)\n",
        "  text = \"Blurry ({:.4f})\" if blurry else \"Not Blurry ({:.4f})\"\n",
        "  text = text.format(mean)\n",
        "  cv2.putText(orig, text, (10, 25), cv2.FONT_HERSHEY_SIMPLEX, 0.7,\n",
        "\t  color, 2)\n",
        "  print(\"[INFO] {}\".format(text))\n",
        "  # show the output image\n",
        "  cv2_imshow(orig)\n",
        "  cv2.waitKey(0)\n",
        "\n",
        "  name = os.path.split(imagePath)[1]\n",
        "  #print(name)\n",
        "  \n",
        "  #write the processed image to specific folder\n",
        "  cv2.imwrite(('/content/fft_processed_images/'+ name), orig)\n",
        "\n",
        "  print()\n",
        "  print()"
      ],
      "execution_count": null,
      "outputs": []
    },
    {
      "cell_type": "code",
      "metadata": {
        "id": "kP_uXTGhZQpd"
      },
      "source": [
        "#zip folder\n",
        "!zip -r /content/processed_images.zip /content/fft_processed_images"
      ],
      "execution_count": null,
      "outputs": []
    },
    {
      "cell_type": "code",
      "metadata": {
        "id": "eY6gb2HDeCLV"
      },
      "source": [
        "#download zip folder\n",
        "files.download('/content/processed_images.zip')"
      ],
      "execution_count": null,
      "outputs": []
    }
  ]
}